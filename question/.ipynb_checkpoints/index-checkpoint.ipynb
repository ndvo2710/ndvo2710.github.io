{
 "cells": [
  {
   "cell_type": "markdown",
   "metadata": {},
   "source": [
    "# QUESTION:\n",
    "\n",
    "![image](https://dl.dropboxusercontent.com/u/27868566/shots/shot_2016-09-14_00-29-15.png)\n",
    "\n",
    "![image](https://dl.dropboxusercontent.com/u/27868566/shots/shot_2016-09-14_00-29-43.png)\n",
    "\n",
    "# ANSWER: \n",
    "```sql\n",
    "set @r1=0, @r2=0, @r3=0, @r4=0;\n",
    "select min(Doctor), min(Professor), min(Singer), min(Actor)\n",
    "from(\n",
    "  select case when Occupation='Doctor' then (@r1:=@r1+1)\n",
    "            when Occupation='Professor' then (@r2:=@r2+1)\n",
    "            when Occupation='Singer' then (@r3:=@r3+1)\n",
    "            when Occupation='Actor' then (@r4:=@r4+1) end as RowNumber,\n",
    "    case when Occupation='Doctor' then Name end as Doctor,\n",
    "    case when Occupation='Professor' then Name end as Professor,\n",
    "    case when Occupation='Singer' then Name end as Singer,\n",
    "    case when Occupation='Actor' then Name end as Actor\n",
    "  from OCCUPATIONS\n",
    "  order by Name\n",
    ") as Temp\n",
    "group by RowNumber\n",
    "```\n",
    "\n",
    "\n",
    "| Doctor | Professor     | Singer      | Actor     |\n",
    "|----------|-----------|----------|\n",
    "|Aamina | Ashley | Christeen | Eve | \n",
    "|Julia | Belvet | Jane | Jennifer | \n",
    "|Priya | Britney | Jenny | Ketty | \n",
    "|NULL | Maria | Kristeen | Samantha | \n",
    "|NULL | Meera | NULL | NULL | \n",
    "|NULL | Naomi | NULL | NULL | \n",
    "|NULL | Priyanka | NULL | NULL | "
   ]
  },
  {
   "cell_type": "markdown",
   "metadata": {},
   "source": [
    "<hr><hr><hr><hr><hr>"
   ]
  },
  {
   "cell_type": "markdown",
   "metadata": {},
   "source": [
    "```sql\n",
    "set @r1=0, @r2=0, @r3=0, @r4=0;\n",
    "select case when Occupation='Doctor' then (@r1:=@r1+1)\n",
    "            when Occupation='Professor' then (@r2:=@r2+1)\n",
    "            when Occupation='Singer' then (@r3:=@r3+1)\n",
    "            when Occupation='Actor' then (@r4:=@r4+1) end as RowNumber,\n",
    "    case when Occupation='Doctor' then Name end as Doctor,\n",
    "    case when Occupation='Professor' then Name end as Professor,\n",
    "    case when Occupation='Singer' then Name end as Singer,\n",
    "    case when Occupation='Actor' then Name end as Actor\n",
    "  from OCCUPATIONS\n",
    "  order by Name\n",
    "```\n",
    "\n",
    "## OUTPUT:\n",
    "\n",
    "| Row Number | Doctor | Professor     | Singer      | Actor     |   |\n",
    "|---|--------|----------|-----------|----------|---|\n",
    "| 1 | NULL   | Ashley   | NULL      | NULL     |   |\n",
    "| 2 | NULL   | Belvet   | NULL      | NULL     |   |\n",
    "| 3 | NULL   | Britney  | NULL      | NULL     |   |\n",
    "| 1 | NULL   | NULL     | Christeen | NULL     |   |\n",
    "| 1 | NULL   | NULL     | NULL      | Eve      |   |\n",
    "| 2 | NULL   | NULL     | Jane      | NULL     |   |\n",
    "| 2 | NULL   | NULL     | NULL      | Jennifer |   |\n",
    "| 3 | NULL   | NULL     | Jenny     | NULL     |   |\n",
    "| 2 | Julia  | NULL     | NULL      | NULL     |   |\n",
    "| 3 | NULL   | NULL     | NULL      | Ketty    |   |\n",
    "| 4 | NULL   | NULL     | Kristeen  | NULL     |   |\n",
    "| 4 | NULL   | Maria    | NULL      | NULL     |   |\n",
    "| 5 | NULL   | Meera    | NULL      | NULL     |   |\n",
    "| 6 | NULL   | Naomi    | NULL      | NULL     |   |\n",
    "| 3 | Priya  | NULL     | NULL      | NULL     |   |\n",
    "| 7 | NULL   | Priyanka | NULL      | NULL     |   |\n",
    "| 4 | NULL   | NULL     | NULL      | Samantha |   |"
   ]
  },
  {
   "cell_type": "code",
   "execution_count": null,
   "metadata": {
    "collapsed": true
   },
   "outputs": [],
   "source": []
  }
 ],
 "metadata": {
  "kernelspec": {
   "display_name": "Python 2",
   "language": "python",
   "name": "python2"
  },
  "language_info": {
   "codemirror_mode": {
    "name": "ipython",
    "version": 2
   },
   "file_extension": ".py",
   "mimetype": "text/x-python",
   "name": "python",
   "nbconvert_exporter": "python",
   "pygments_lexer": "ipython2",
   "version": "2.7.11"
  }
 },
 "nbformat": 4,
 "nbformat_minor": 0
}
