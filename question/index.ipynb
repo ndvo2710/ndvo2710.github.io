{
 "cells": [
  {
   "cell_type": "markdown",
   "metadata": {},
   "source": [
    "# QUESTION:\n",
    "\n",
    "![image](https://dl.dropboxusercontent.com/u/27868566/shots/shot_2016-09-14_00-29-15.png)\n",
    "\n",
    "![image](https://dl.dropboxusercontent.com/u/27868566/shots/shot_2016-09-14_00-29-43.png)\n",
    "\n",
    "# ANSWER: \n",
    "```sql\n",
    "set @r1=0, @r2=0, @r3=0, @r4=0;\n",
    "select min(Doctor), min(Professor), min(Singer), min(Actor)\n",
    "from(\n",
    "  select case when Occupation='Doctor' then (@r1:=@r1+1)\n",
    "            when Occupation='Professor' then (@r2:=@r2+1)\n",
    "            when Occupation='Singer' then (@r3:=@r3+1)\n",
    "            when Occupation='Actor' then (@r4:=@r4+1) end as RowNumber,\n",
    "    case when Occupation='Doctor' then Name end as Doctor,\n",
    "    case when Occupation='Professor' then Name end as Professor,\n",
    "    case when Occupation='Singer' then Name end as Singer,\n",
    "    case when Occupation='Actor' then Name end as Actor\n",
    "  from OCCUPATIONS\n",
    "  order by Name\n",
    ") as Temp\n",
    "group by RowNumber\n",
    "```"
   ]
  },
  {
   "cell_type": "code",
   "execution_count": null,
   "metadata": {
    "collapsed": true
   },
   "outputs": [],
   "source": []
  }
 ],
 "metadata": {
  "kernelspec": {
   "display_name": "Python 2",
   "language": "python",
   "name": "python2"
  },
  "language_info": {
   "codemirror_mode": {
    "name": "ipython",
    "version": 2
   },
   "file_extension": ".py",
   "mimetype": "text/x-python",
   "name": "python",
   "nbconvert_exporter": "python",
   "pygments_lexer": "ipython2",
   "version": "2.7.11"
  }
 },
 "nbformat": 4,
 "nbformat_minor": 0
}
